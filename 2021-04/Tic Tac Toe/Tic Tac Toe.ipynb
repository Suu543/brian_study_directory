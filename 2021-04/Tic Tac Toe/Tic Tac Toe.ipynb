{
 "cells": [
  {
   "cell_type": "markdown",
   "metadata": {},
   "source": [
    "### Tic Tac Toe Logic\n",
    "\n",
    "1. display_board (reset board)\n",
    "2. player_input (o or x)\n",
    "3. place_marker (board, marker, position)\n",
    "4. win_check (won, draw, lost)\n",
    "5. choose_first\n",
    "6. space_check (Check whether the space is empty or not)\n",
    "7. full_board_check\n",
    "8. player_choice\n",
    "9. replay"
   ]
  },
  {
   "cell_type": "code",
   "execution_count": 10,
   "metadata": {},
   "outputs": [],
   "source": [
    "# 결과값을 초기화해주는 역할을 한다.\n",
    "from IPython.display import clear_output\n",
    "\n",
    "# board[0] 대신에, board[1]부터 한 이유는, 게임을 하는 사용자에게 혼란을 줄이기 위해\n",
    "def display_board(board):\n",
    "    \n",
    "    clear_output()\n",
    "    print('   |   |')\n",
    "    print(' ' + board[7] + ' | ' + board[8] + ' | ' + board[9])\n",
    "    print('   |   |')\n",
    "    print('-----------')\n",
    "    print('   |   |')\n",
    "    print(' ' + board[4] + ' | ' + board[5] + ' | ' + board[6])\n",
    "    print('   |   |')\n",
    "    print('-----------')\n",
    "    print('   |   |')\n",
    "    print(' ' + board[1] + ' | ' + board[2] + ' | ' + board[3])\n",
    "    print('   |   |')"
   ]
  },
  {
   "cell_type": "code",
   "execution_count": 11,
   "metadata": {},
   "outputs": [
    {
     "name": "stdout",
     "output_type": "stream",
     "text": [
      "   |   |\n",
      "   |   |  \n",
      "   |   |\n",
      "-----------\n",
      "   |   |\n",
      "   |   |  \n",
      "   |   |\n",
      "-----------\n",
      "   |   |\n",
      "   |   |  \n",
      "   |   |\n"
     ]
    }
   ],
   "source": [
    "test_board = ['', ' ', ' ', ' ', ' ', ' ', ' ', ' ', ' ', ' ']\n",
    "display_board(test_board)"
   ]
  },
  {
   "cell_type": "code",
   "execution_count": 13,
   "metadata": {},
   "outputs": [],
   "source": [
    "# O or X 중에 어느 마커를 선택할지 결정한다.\n",
    "def player_input():\n",
    "    marker = ''\n",
    "    \n",
    "    while not (marker == 'X' or marker == 'O'):\n",
    "        # 조건에 대문자를 사용한다. \n",
    "        # 사용자가 소문자를 입력하는 경우를 대비해 대문자로 변환(upper)\n",
    "        marker = input('Player 1: Do you want to be X or O').upper()\n",
    "    \n",
    "    if marker == 'X':\n",
    "        # 게임 순서는 한 번 정해지면 변경되면 안 되기 때문에\n",
    "        # Tuple 데이터 타입을 사용했다.\n",
    "        return ('X', 'O')\n",
    "    else:\n",
    "        return ('O', 'X')"
   ]
  },
  {
   "cell_type": "code",
   "execution_count": 14,
   "metadata": {},
   "outputs": [],
   "source": [
    "# (게임 보드, 마커 종류, 마커 배치 위치)\n",
    "def place_marker(board, marker, position):\n",
    "    board[position] = marker"
   ]
  },
  {
   "cell_type": "code",
   "execution_count": 17,
   "metadata": {},
   "outputs": [
    {
     "name": "stdout",
     "output_type": "stream",
     "text": [
      "   |   |\n",
      "   |   |  \n",
      "   |   |\n",
      "-----------\n",
      "   |   |\n",
      "   |   |  \n",
      "   |   |\n",
      "-----------\n",
      "   |   |\n",
      " O |   |  \n",
      "   |   |\n"
     ]
    }
   ],
   "source": [
    "# place_marker 함수를 테스트해보자.\n",
    "# display_board를 이용해 기존의 test_board 상태를 확인하자.\n",
    "# place_marker 함수에 test_board 함수를 전달하자.\n",
    "# display_board 함수를 이용해서 반영 여부를 확인하자.\n",
    "display_board(test_board)\n",
    "place_marker(test_board, 'O', 1)\n",
    "display_board(test_board)"
   ]
  },
  {
   "cell_type": "code",
   "execution_count": null,
   "metadata": {},
   "outputs": [],
   "source": [
    "# Tic Tac Toe 승리 경우의 수\n",
    "# 직선으로 세 개 - \n",
    "# - across the top, middle, bottom, \n",
    "# - down the top, middle, bottom\n",
    "# - diagonal (대각선) * 2\n",
    "\n",
    "# 7 8 9\n",
    "# 4 5 6\n",
    "# 1 2 3 \n",
    "def win_check(board,mark):\n",
    "    \n",
    "    return (\n",
    "    (board[7] == mark and board[8] == mark and board[9] == mark) or # across the top\n",
    "    (board[4] == mark and board[5] == mark and board[6] == mark) or # across the middle\n",
    "    (board[1] == mark and board[2] == mark and board[3] == mark) or # across the bottom\n",
    "    (board[7] == mark and board[4] == mark and board[1] == mark) or # down the middle\n",
    "    (board[8] == mark and board[5] == mark and board[2] == mark) or # down the middle\n",
    "    (board[9] == mark and board[6] == mark and board[3] == mark) or # down the right side\n",
    "    (board[7] == mark and board[5] == mark and board[3] == mark) or # diagonal\n",
    "    (board[9] == mark and board[5] == mark and board[1] == mark)    # diagonal\n",
    "    )"
   ]
  }
 ],
 "metadata": {
  "kernelspec": {
   "display_name": "Python 3",
   "language": "python",
   "name": "python3"
  },
  "language_info": {
   "codemirror_mode": {
    "name": "ipython",
    "version": 3
   },
   "file_extension": ".py",
   "mimetype": "text/x-python",
   "name": "python",
   "nbconvert_exporter": "python",
   "pygments_lexer": "ipython3",
   "version": "3.8.5"
  }
 },
 "nbformat": 4,
 "nbformat_minor": 4
}
